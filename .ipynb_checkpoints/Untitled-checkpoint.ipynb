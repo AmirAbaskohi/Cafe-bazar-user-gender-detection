{
 "cells": [
  {
   "cell_type": "code",
   "execution_count": 1,
   "id": "f0838c12",
   "metadata": {},
   "outputs": [],
   "source": [
    "import pandas as pd\n",
    "import numpy as np\n",
    "import matplotlib.pyplot as plt\n",
    "import seaborn as sns"
   ]
  },
  {
   "cell_type": "code",
   "execution_count": 2,
   "id": "6db2e37d",
   "metadata": {},
   "outputs": [],
   "source": [
    "DATA_DIR = \"data/gender.parquet\""
   ]
  },
  {
   "cell_type": "code",
   "execution_count": 3,
   "id": "18b51baf",
   "metadata": {},
   "outputs": [
    {
     "data": {
      "text/html": [
       "<div>\n",
       "<style scoped>\n",
       "    .dataframe tbody tr th:only-of-type {\n",
       "        vertical-align: middle;\n",
       "    }\n",
       "\n",
       "    .dataframe tbody tr th {\n",
       "        vertical-align: top;\n",
       "    }\n",
       "\n",
       "    .dataframe thead th {\n",
       "        text-align: right;\n",
       "    }\n",
       "</style>\n",
       "<table border=\"1\" class=\"dataframe\">\n",
       "  <thead>\n",
       "    <tr style=\"text-align: right;\">\n",
       "      <th></th>\n",
       "      <th>queries</th>\n",
       "      <th>apps</th>\n",
       "      <th>games</th>\n",
       "      <th>gender</th>\n",
       "      <th>birth_year</th>\n",
       "    </tr>\n",
       "  </thead>\n",
       "  <tbody>\n",
       "    <tr>\n",
       "      <th>0</th>\n",
       "      <td>[216, 359, 12329, 3, 45, 4002, 2066, 32, 3931,...</td>\n",
       "      <td>[4, 4, 25, 7, 30, 58, 16, 19, 17, 21, 10, 10, ...</td>\n",
       "      <td>[9151, 208]</td>\n",
       "      <td>M</td>\n",
       "      <td>1366.0</td>\n",
       "    </tr>\n",
       "    <tr>\n",
       "      <th>1</th>\n",
       "      <td>[]</td>\n",
       "      <td>[129, 71, 9, 8, 11, 25, 18, 58, 6, 16, 125, 12...</td>\n",
       "      <td>[460, 4939, 14, 232, 6387, 1758, 5834, 3, 2]</td>\n",
       "      <td>F</td>\n",
       "      <td>1359.0</td>\n",
       "    </tr>\n",
       "    <tr>\n",
       "      <th>2</th>\n",
       "      <td>[23463, 18831]</td>\n",
       "      <td>[9, 174, 65, 8, 63, 97, 62, 103, 61, 116, 59, ...</td>\n",
       "      <td>[448, 723, 267, 9064, 10634, 166, 782, 224, 27...</td>\n",
       "      <td>M</td>\n",
       "      <td>1373.0</td>\n",
       "    </tr>\n",
       "    <tr>\n",
       "      <th>3</th>\n",
       "      <td>[1634, 3609, 654]</td>\n",
       "      <td>[99, 73, 9, 8, 59, 37, 131, 3, 89, 6, 24, 16, ...</td>\n",
       "      <td>[78, 2607, 478, 435, 9, 192]</td>\n",
       "      <td>M</td>\n",
       "      <td>0.0</td>\n",
       "    </tr>\n",
       "    <tr>\n",
       "      <th>4</th>\n",
       "      <td>[11064, 227, 623, 1301, 43999, 35411, 2492, 11...</td>\n",
       "      <td>[9, 8, 17, 54, 3, 25, 22, 6, 21, 7, 14, 5, 817...</td>\n",
       "      <td>[1702, 1, 53]</td>\n",
       "      <td>M</td>\n",
       "      <td>1364.0</td>\n",
       "    </tr>\n",
       "  </tbody>\n",
       "</table>\n",
       "</div>"
      ],
      "text/plain": [
       "                                             queries  \\\n",
       "0  [216, 359, 12329, 3, 45, 4002, 2066, 32, 3931,...   \n",
       "1                                                 []   \n",
       "2                                     [23463, 18831]   \n",
       "3                                  [1634, 3609, 654]   \n",
       "4  [11064, 227, 623, 1301, 43999, 35411, 2492, 11...   \n",
       "\n",
       "                                                apps  \\\n",
       "0  [4, 4, 25, 7, 30, 58, 16, 19, 17, 21, 10, 10, ...   \n",
       "1  [129, 71, 9, 8, 11, 25, 18, 58, 6, 16, 125, 12...   \n",
       "2  [9, 174, 65, 8, 63, 97, 62, 103, 61, 116, 59, ...   \n",
       "3  [99, 73, 9, 8, 59, 37, 131, 3, 89, 6, 24, 16, ...   \n",
       "4  [9, 8, 17, 54, 3, 25, 22, 6, 21, 7, 14, 5, 817...   \n",
       "\n",
       "                                               games gender  birth_year  \n",
       "0                                        [9151, 208]      M      1366.0  \n",
       "1       [460, 4939, 14, 232, 6387, 1758, 5834, 3, 2]      F      1359.0  \n",
       "2  [448, 723, 267, 9064, 10634, 166, 782, 224, 27...      M      1373.0  \n",
       "3                       [78, 2607, 478, 435, 9, 192]      M         0.0  \n",
       "4                                      [1702, 1, 53]      M      1364.0  "
      ]
     },
     "execution_count": 3,
     "metadata": {},
     "output_type": "execute_result"
    }
   ],
   "source": [
    "df = pd.read_parquet(DATA_DIR, engine=\"pyarrow\")\n",
    "df.head()"
   ]
  },
  {
   "cell_type": "code",
   "execution_count": 4,
   "id": "9b3a550f",
   "metadata": {},
   "outputs": [
    {
     "data": {
      "text/html": [
       "<div>\n",
       "<style scoped>\n",
       "    .dataframe tbody tr th:only-of-type {\n",
       "        vertical-align: middle;\n",
       "    }\n",
       "\n",
       "    .dataframe tbody tr th {\n",
       "        vertical-align: top;\n",
       "    }\n",
       "\n",
       "    .dataframe thead th {\n",
       "        text-align: right;\n",
       "    }\n",
       "</style>\n",
       "<table border=\"1\" class=\"dataframe\">\n",
       "  <thead>\n",
       "    <tr style=\"text-align: right;\">\n",
       "      <th></th>\n",
       "      <th>queries</th>\n",
       "      <th>apps</th>\n",
       "      <th>games</th>\n",
       "      <th>gender</th>\n",
       "      <th>birth_year</th>\n",
       "    </tr>\n",
       "  </thead>\n",
       "  <tbody>\n",
       "    <tr>\n",
       "      <th>40266</th>\n",
       "      <td>[13388, 10571, 122, 1961, 42946, 823, 3349, 10...</td>\n",
       "      <td>[9, 8, 17, 3, 25, 22, 6, 24, 12, 7, 14, 5, 4, ...</td>\n",
       "      <td>[3, 55, 1115, 135, 410, 38, 1426, 107, 374]</td>\n",
       "      <td>M</td>\n",
       "      <td>1394.0</td>\n",
       "    </tr>\n",
       "    <tr>\n",
       "      <th>40267</th>\n",
       "      <td>[2655, 11, 1732, 2847, 15222, 884, 39, 1433, 2...</td>\n",
       "      <td>[8, 11, 10, 10, 39, 17, 771, 48, 3, 25, 95, 22...</td>\n",
       "      <td>[717]</td>\n",
       "      <td>M</td>\n",
       "      <td>1354.0</td>\n",
       "    </tr>\n",
       "    <tr>\n",
       "      <th>40268</th>\n",
       "      <td>[9, 33200, 5028, 357, 4, 233, 262, 2180, 376, ...</td>\n",
       "      <td>[54, 9, 8, 10, 10, 39, 17, 48, 3, 25, 6, 21, 1...</td>\n",
       "      <td>[312, 22]</td>\n",
       "      <td>M</td>\n",
       "      <td>1364.0</td>\n",
       "    </tr>\n",
       "    <tr>\n",
       "      <th>40269</th>\n",
       "      <td>[9, 276, 27, 1074]</td>\n",
       "      <td>[9, 8, 17, 48, 54, 3, 25, 22, 6, 21, 7, 45, 14...</td>\n",
       "      <td>[73, 2, 53, 75]</td>\n",
       "      <td>M</td>\n",
       "      <td>1365.0</td>\n",
       "    </tr>\n",
       "    <tr>\n",
       "      <th>40270</th>\n",
       "      <td>[6421, 11377, 6980, 852, 31, 185, 2348, 534, 4...</td>\n",
       "      <td>[43, 8, 10, 10, 39, 17, 48, 54, 3, 25, 22, 6, ...</td>\n",
       "      <td>[355, 278, 185]</td>\n",
       "      <td>M</td>\n",
       "      <td>1390.0</td>\n",
       "    </tr>\n",
       "  </tbody>\n",
       "</table>\n",
       "</div>"
      ],
      "text/plain": [
       "                                                 queries  \\\n",
       "40266  [13388, 10571, 122, 1961, 42946, 823, 3349, 10...   \n",
       "40267  [2655, 11, 1732, 2847, 15222, 884, 39, 1433, 2...   \n",
       "40268  [9, 33200, 5028, 357, 4, 233, 262, 2180, 376, ...   \n",
       "40269                                 [9, 276, 27, 1074]   \n",
       "40270  [6421, 11377, 6980, 852, 31, 185, 2348, 534, 4...   \n",
       "\n",
       "                                                    apps  \\\n",
       "40266  [9, 8, 17, 3, 25, 22, 6, 24, 12, 7, 14, 5, 4, ...   \n",
       "40267  [8, 11, 10, 10, 39, 17, 771, 48, 3, 25, 95, 22...   \n",
       "40268  [54, 9, 8, 10, 10, 39, 17, 48, 3, 25, 6, 21, 1...   \n",
       "40269  [9, 8, 17, 48, 54, 3, 25, 22, 6, 21, 7, 45, 14...   \n",
       "40270  [43, 8, 10, 10, 39, 17, 48, 54, 3, 25, 22, 6, ...   \n",
       "\n",
       "                                             games gender  birth_year  \n",
       "40266  [3, 55, 1115, 135, 410, 38, 1426, 107, 374]      M      1394.0  \n",
       "40267                                        [717]      M      1354.0  \n",
       "40268                                    [312, 22]      M      1364.0  \n",
       "40269                              [73, 2, 53, 75]      M      1365.0  \n",
       "40270                              [355, 278, 185]      M      1390.0  "
      ]
     },
     "execution_count": 4,
     "metadata": {},
     "output_type": "execute_result"
    }
   ],
   "source": [
    "df.tail()"
   ]
  },
  {
   "cell_type": "code",
   "execution_count": 17,
   "id": "09a4a1a0",
   "metadata": {},
   "outputs": [
    {
     "data": {
      "text/plain": [
       "(40271, 5)"
      ]
     },
     "execution_count": 17,
     "metadata": {},
     "output_type": "execute_result"
    }
   ],
   "source": [
    "df.shape"
   ]
  },
  {
   "cell_type": "code",
   "execution_count": 18,
   "id": "24ba5995",
   "metadata": {},
   "outputs": [
    {
     "name": "stdout",
     "output_type": "stream",
     "text": [
      "<class 'pandas.core.frame.DataFrame'>\n",
      "RangeIndex: 40271 entries, 0 to 40270\n",
      "Data columns (total 5 columns):\n",
      " #   Column      Non-Null Count  Dtype  \n",
      "---  ------      --------------  -----  \n",
      " 0   queries     40271 non-null  object \n",
      " 1   apps        40271 non-null  object \n",
      " 2   games       40271 non-null  object \n",
      " 3   gender      40271 non-null  object \n",
      " 4   birth_year  40271 non-null  float64\n",
      "dtypes: float64(1), object(4)\n",
      "memory usage: 1.5+ MB\n"
     ]
    }
   ],
   "source": [
    "df.info()"
   ]
  },
  {
   "cell_type": "code",
   "execution_count": 5,
   "id": "396a14aa",
   "metadata": {},
   "outputs": [],
   "source": [
    "df[\"birth_year\"] = df[\"birth_year\"].astype(np.uint)"
   ]
  },
  {
   "cell_type": "markdown",
   "id": "043f5f6c",
   "metadata": {},
   "source": [
    "There is no `NaN` value heare as we can see in `birth_year` we have `0` which is not acceptable. So we should replace them with new values.\n",
    "\n",
    "In addition to `birth_year` we should make gender column numeric, although it is our goal column."
   ]
  },
  {
   "cell_type": "code",
   "execution_count": 7,
   "id": "9384d369",
   "metadata": {},
   "outputs": [],
   "source": [
    "valid_birth_year = df[\"birth_year\"][df[\"birth_year\"] != 0]\n",
    "mean_birth_year = round(valid_birth_year.mean())"
   ]
  },
  {
   "cell_type": "code",
   "execution_count": 8,
   "id": "72195a44",
   "metadata": {},
   "outputs": [
    {
     "data": {
      "text/html": [
       "<div>\n",
       "<style scoped>\n",
       "    .dataframe tbody tr th:only-of-type {\n",
       "        vertical-align: middle;\n",
       "    }\n",
       "\n",
       "    .dataframe tbody tr th {\n",
       "        vertical-align: top;\n",
       "    }\n",
       "\n",
       "    .dataframe thead th {\n",
       "        text-align: right;\n",
       "    }\n",
       "</style>\n",
       "<table border=\"1\" class=\"dataframe\">\n",
       "  <thead>\n",
       "    <tr style=\"text-align: right;\">\n",
       "      <th></th>\n",
       "      <th>queries</th>\n",
       "      <th>apps</th>\n",
       "      <th>games</th>\n",
       "      <th>gender</th>\n",
       "      <th>birth_year</th>\n",
       "    </tr>\n",
       "  </thead>\n",
       "  <tbody>\n",
       "    <tr>\n",
       "      <th>0</th>\n",
       "      <td>[216, 359, 12329, 3, 45, 4002, 2066, 32, 3931,...</td>\n",
       "      <td>[4, 4, 25, 7, 30, 58, 16, 19, 17, 21, 10, 10, ...</td>\n",
       "      <td>[9151, 208]</td>\n",
       "      <td>0</td>\n",
       "      <td>1366</td>\n",
       "    </tr>\n",
       "    <tr>\n",
       "      <th>1</th>\n",
       "      <td>[]</td>\n",
       "      <td>[129, 71, 9, 8, 11, 25, 18, 58, 6, 16, 125, 12...</td>\n",
       "      <td>[460, 4939, 14, 232, 6387, 1758, 5834, 3, 2]</td>\n",
       "      <td>1</td>\n",
       "      <td>1359</td>\n",
       "    </tr>\n",
       "    <tr>\n",
       "      <th>2</th>\n",
       "      <td>[23463, 18831]</td>\n",
       "      <td>[9, 174, 65, 8, 63, 97, 62, 103, 61, 116, 59, ...</td>\n",
       "      <td>[448, 723, 267, 9064, 10634, 166, 782, 224, 27...</td>\n",
       "      <td>0</td>\n",
       "      <td>1373</td>\n",
       "    </tr>\n",
       "    <tr>\n",
       "      <th>3</th>\n",
       "      <td>[1634, 3609, 654]</td>\n",
       "      <td>[99, 73, 9, 8, 59, 37, 131, 3, 89, 6, 24, 16, ...</td>\n",
       "      <td>[78, 2607, 478, 435, 9, 192]</td>\n",
       "      <td>0</td>\n",
       "      <td>1371</td>\n",
       "    </tr>\n",
       "    <tr>\n",
       "      <th>4</th>\n",
       "      <td>[11064, 227, 623, 1301, 43999, 35411, 2492, 11...</td>\n",
       "      <td>[9, 8, 17, 54, 3, 25, 22, 6, 21, 7, 14, 5, 817...</td>\n",
       "      <td>[1702, 1, 53]</td>\n",
       "      <td>0</td>\n",
       "      <td>1364</td>\n",
       "    </tr>\n",
       "  </tbody>\n",
       "</table>\n",
       "</div>"
      ],
      "text/plain": [
       "                                             queries  \\\n",
       "0  [216, 359, 12329, 3, 45, 4002, 2066, 32, 3931,...   \n",
       "1                                                 []   \n",
       "2                                     [23463, 18831]   \n",
       "3                                  [1634, 3609, 654]   \n",
       "4  [11064, 227, 623, 1301, 43999, 35411, 2492, 11...   \n",
       "\n",
       "                                                apps  \\\n",
       "0  [4, 4, 25, 7, 30, 58, 16, 19, 17, 21, 10, 10, ...   \n",
       "1  [129, 71, 9, 8, 11, 25, 18, 58, 6, 16, 125, 12...   \n",
       "2  [9, 174, 65, 8, 63, 97, 62, 103, 61, 116, 59, ...   \n",
       "3  [99, 73, 9, 8, 59, 37, 131, 3, 89, 6, 24, 16, ...   \n",
       "4  [9, 8, 17, 54, 3, 25, 22, 6, 21, 7, 14, 5, 817...   \n",
       "\n",
       "                                               games  gender  birth_year  \n",
       "0                                        [9151, 208]       0        1366  \n",
       "1       [460, 4939, 14, 232, 6387, 1758, 5834, 3, 2]       1        1359  \n",
       "2  [448, 723, 267, 9064, 10634, 166, 782, 224, 27...       0        1373  \n",
       "3                       [78, 2607, 478, 435, 9, 192]       0        1371  \n",
       "4                                      [1702, 1, 53]       0        1364  "
      ]
     },
     "execution_count": 8,
     "metadata": {},
     "output_type": "execute_result"
    }
   ],
   "source": [
    "df[\"birth_year\"] = df[\"birth_year\"].replace(0, mean_birth_year)\n",
    "df[\"gender\"] = df[\"gender\"].replace({'M': 0, 'F': 1})\n",
    "df.head()"
   ]
  },
  {
   "cell_type": "code",
   "execution_count": 9,
   "id": "8ac034a4",
   "metadata": {},
   "outputs": [
    {
     "data": {
      "text/html": [
       "<div>\n",
       "<style scoped>\n",
       "    .dataframe tbody tr th:only-of-type {\n",
       "        vertical-align: middle;\n",
       "    }\n",
       "\n",
       "    .dataframe tbody tr th {\n",
       "        vertical-align: top;\n",
       "    }\n",
       "\n",
       "    .dataframe thead th {\n",
       "        text-align: right;\n",
       "    }\n",
       "</style>\n",
       "<table border=\"1\" class=\"dataframe\">\n",
       "  <thead>\n",
       "    <tr style=\"text-align: right;\">\n",
       "      <th></th>\n",
       "      <th>gender</th>\n",
       "      <th>birth_year</th>\n",
       "    </tr>\n",
       "  </thead>\n",
       "  <tbody>\n",
       "    <tr>\n",
       "      <th>count</th>\n",
       "      <td>40271.000000</td>\n",
       "      <td>40271.000000</td>\n",
       "    </tr>\n",
       "    <tr>\n",
       "      <th>mean</th>\n",
       "      <td>0.257009</td>\n",
       "      <td>1370.967495</td>\n",
       "    </tr>\n",
       "    <tr>\n",
       "      <th>std</th>\n",
       "      <td>0.436990</td>\n",
       "      <td>11.706620</td>\n",
       "    </tr>\n",
       "    <tr>\n",
       "      <th>min</th>\n",
       "      <td>0.000000</td>\n",
       "      <td>1300.000000</td>\n",
       "    </tr>\n",
       "    <tr>\n",
       "      <th>25%</th>\n",
       "      <td>0.000000</td>\n",
       "      <td>1364.000000</td>\n",
       "    </tr>\n",
       "    <tr>\n",
       "      <th>50%</th>\n",
       "      <td>0.000000</td>\n",
       "      <td>1371.000000</td>\n",
       "    </tr>\n",
       "    <tr>\n",
       "      <th>75%</th>\n",
       "      <td>1.000000</td>\n",
       "      <td>1380.000000</td>\n",
       "    </tr>\n",
       "    <tr>\n",
       "      <th>max</th>\n",
       "      <td>1.000000</td>\n",
       "      <td>1398.000000</td>\n",
       "    </tr>\n",
       "  </tbody>\n",
       "</table>\n",
       "</div>"
      ],
      "text/plain": [
       "             gender    birth_year\n",
       "count  40271.000000  40271.000000\n",
       "mean       0.257009   1370.967495\n",
       "std        0.436990     11.706620\n",
       "min        0.000000   1300.000000\n",
       "25%        0.000000   1364.000000\n",
       "50%        0.000000   1371.000000\n",
       "75%        1.000000   1380.000000\n",
       "max        1.000000   1398.000000"
      ]
     },
     "execution_count": 9,
     "metadata": {},
     "output_type": "execute_result"
    }
   ],
   "source": [
    "df.describe()"
   ]
  },
  {
   "attachments": {
    "image-2.png": {
     "image/png": "[encoded data removed]"
    },
    "image.png": {
     "image/png": "[encoded data removed]"
    }
   },
   "cell_type": "markdown",
   "id": "40ab603c",
   "metadata": {},
   "source": [
    "## Dealing with list values\n",
    "\n",
    "As it's clear hear that three of our main columns which are `queries`, `apps`, and `games` are lists so we should desl with them.\n",
    "\n",
    "Actually, if you look closely, you will find that lists are everywhere! Here are some practical problems, where you will probably encounter list values.\n",
    "\n",
    "* Audio-video tags\n",
    "* Open-ended questions in survey data\n",
    "* List of all authors, artists, producers, etc. invloved in a creative product\n",
    "\n",
    "### What is wrong with list values?\n",
    "List values mess up everything you know about data analysis. The simplest operations can not be performed without endless looping. \n",
    "\n",
    "An example of this is here:\n",
    "\n",
    "![image.png](attachment:image.png)\n",
    "\n",
    "![image-2.png](attachment:image-2.png)\n",
    "\n",
    "The reason this does not work is that Pandas does not have direct access to every individual element of the lists. Thus, Pandas is unable to apply functions like value_counts() properly. "
   ]
  },
  {
   "cell_type": "code",
   "execution_count": 14,
   "id": "fc8ec8c1",
   "metadata": {},
   "outputs": [],
   "source": [
    "def to_1D(series):\n",
    "    return pd.Series([x for _list in series for x in _list])"
   ]
  },
  {
   "cell_type": "code",
   "execution_count": 15,
   "id": "ceb0130b",
   "metadata": {},
   "outputs": [
    {
     "data": {
      "text/plain": [
       "2        8229\n",
       "3        8174\n",
       "4        7870\n",
       "1        7816\n",
       "5        6605\n",
       "         ... \n",
       "43591       1\n",
       "49796       1\n",
       "36214       1\n",
       "37550       1\n",
       "41955       1\n",
       "Length: 47287, dtype: int64"
      ]
     },
     "execution_count": 15,
     "metadata": {},
     "output_type": "execute_result"
    }
   ],
   "source": [
    "to_1D(df['queries']).value_counts()"
   ]
  },
  {
   "cell_type": "code",
   "execution_count": 16,
   "id": "39fd7230",
   "metadata": {},
   "outputs": [
    {
     "data": {
      "text/plain": [
       "4        41154\n",
       "1        40271\n",
       "2        40194\n",
       "3        38390\n",
       "10       37980\n",
       "         ...  \n",
       "22089        1\n",
       "19999        1\n",
       "16220        1\n",
       "12370        1\n",
       "30151        1\n",
       "Length: 36598, dtype: int64"
      ]
     },
     "execution_count": 16,
     "metadata": {},
     "output_type": "execute_result"
    }
   ],
   "source": [
    "to_1D(df['apps']).value_counts()"
   ]
  },
  {
   "cell_type": "code",
   "execution_count": 17,
   "id": "64fb6237",
   "metadata": {},
   "outputs": [
    {
     "data": {
      "text/plain": [
       "2        5534\n",
       "1        3662\n",
       "9        2324\n",
       "4        2131\n",
       "16       2045\n",
       "         ... \n",
       "3942        1\n",
       "30718       1\n",
       "8524        1\n",
       "8361        1\n",
       "14970       1\n",
       "Length: 15414, dtype: int64"
      ]
     },
     "execution_count": 17,
     "metadata": {},
     "output_type": "execute_result"
    }
   ],
   "source": [
    "to_1D(df['games']).value_counts()"
   ]
  },
  {
   "cell_type": "code",
   "execution_count": null,
   "id": "971feb8c",
   "metadata": {},
   "outputs": [],
   "source": [
    "fig, ax = plt.subplots(figsize = (14,4))\n",
    "ax.bar(to_1D(df[\"queries\"]).value_counts().index,\n",
    "        to_1D(df[\"favorite_fruits\"]).value_counts().values)\n",
    "ax.set_ylabel(\"Frequency\", size = 12)\n",
    "ax.set_title(\"Children's Favorite Fruits\", size = 14)"
   ]
  }
 ],
 "metadata": {
  "kernelspec": {
   "display_name": "Python 3",
   "language": "python",
   "name": "python3"
  },
  "language_info": {
   "codemirror_mode": {
    "name": "ipython",
    "version": 3
   },
   "file_extension": ".py",
   "mimetype": "text/x-python",
   "name": "python",
   "nbconvert_exporter": "python",
   "pygments_lexer": "ipython3",
   "version": "3.8.10"
  }
 },
 "nbformat": 4,
 "nbformat_minor": 5
}
