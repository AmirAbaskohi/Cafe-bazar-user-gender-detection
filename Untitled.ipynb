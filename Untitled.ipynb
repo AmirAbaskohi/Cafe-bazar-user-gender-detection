{
 "cells": [
  {
   "cell_type": "code",
   "execution_count": 1,
   "id": "bf102f36",
   "metadata": {},
   "outputs": [],
   "source": [
    "import pandas as pd\n",
    "import numpy as np\n",
    "import matplotlib.pyplot as plt\n",
    "import seaborn as sns"
   ]
  },
  {
   "cell_type": "code",
   "execution_count": 2,
   "id": "50da8a3f",
   "metadata": {},
   "outputs": [],
   "source": [
    "DATA_DIR = \"data/gender.parquet\""
   ]
  },
  {
   "cell_type": "code",
   "execution_count": 3,
   "id": "49fe7f6c",
   "metadata": {},
   "outputs": [
    {
     "data": {
      "text/html": [
       "<div>\n",
       "<style scoped>\n",
       "    .dataframe tbody tr th:only-of-type {\n",
       "        vertical-align: middle;\n",
       "    }\n",
       "\n",
       "    .dataframe tbody tr th {\n",
       "        vertical-align: top;\n",
       "    }\n",
       "\n",
       "    .dataframe thead th {\n",
       "        text-align: right;\n",
       "    }\n",
       "</style>\n",
       "<table border=\"1\" class=\"dataframe\">\n",
       "  <thead>\n",
       "    <tr style=\"text-align: right;\">\n",
       "      <th></th>\n",
       "      <th>queries</th>\n",
       "      <th>apps</th>\n",
       "      <th>games</th>\n",
       "      <th>gender</th>\n",
       "      <th>birth_year</th>\n",
       "    </tr>\n",
       "  </thead>\n",
       "  <tbody>\n",
       "    <tr>\n",
       "      <th>0</th>\n",
       "      <td>[216, 359, 12329, 3, 45, 4002, 2066, 32, 3931,...</td>\n",
       "      <td>[4, 4, 25, 7, 30, 58, 16, 19, 17, 21, 10, 10, ...</td>\n",
       "      <td>[9151, 208]</td>\n",
       "      <td>M</td>\n",
       "      <td>1366.0</td>\n",
       "    </tr>\n",
       "    <tr>\n",
       "      <th>1</th>\n",
       "      <td>[]</td>\n",
       "      <td>[129, 71, 9, 8, 11, 25, 18, 58, 6, 16, 125, 12...</td>\n",
       "      <td>[460, 4939, 14, 232, 6387, 1758, 5834, 3, 2]</td>\n",
       "      <td>F</td>\n",
       "      <td>1359.0</td>\n",
       "    </tr>\n",
       "    <tr>\n",
       "      <th>2</th>\n",
       "      <td>[23463, 18831]</td>\n",
       "      <td>[9, 174, 65, 8, 63, 97, 62, 103, 61, 116, 59, ...</td>\n",
       "      <td>[448, 723, 267, 9064, 10634, 166, 782, 224, 27...</td>\n",
       "      <td>M</td>\n",
       "      <td>1373.0</td>\n",
       "    </tr>\n",
       "    <tr>\n",
       "      <th>3</th>\n",
       "      <td>[1634, 3609, 654]</td>\n",
       "      <td>[99, 73, 9, 8, 59, 37, 131, 3, 89, 6, 24, 16, ...</td>\n",
       "      <td>[78, 2607, 478, 435, 9, 192]</td>\n",
       "      <td>M</td>\n",
       "      <td>0.0</td>\n",
       "    </tr>\n",
       "    <tr>\n",
       "      <th>4</th>\n",
       "      <td>[11064, 227, 623, 1301, 43999, 35411, 2492, 11...</td>\n",
       "      <td>[9, 8, 17, 54, 3, 25, 22, 6, 21, 7, 14, 5, 817...</td>\n",
       "      <td>[1702, 1, 53]</td>\n",
       "      <td>M</td>\n",
       "      <td>1364.0</td>\n",
       "    </tr>\n",
       "  </tbody>\n",
       "</table>\n",
       "</div>"
      ],
      "text/plain": [
       "                                             queries  \\\n",
       "0  [216, 359, 12329, 3, 45, 4002, 2066, 32, 3931,...   \n",
       "1                                                 []   \n",
       "2                                     [23463, 18831]   \n",
       "3                                  [1634, 3609, 654]   \n",
       "4  [11064, 227, 623, 1301, 43999, 35411, 2492, 11...   \n",
       "\n",
       "                                                apps  \\\n",
       "0  [4, 4, 25, 7, 30, 58, 16, 19, 17, 21, 10, 10, ...   \n",
       "1  [129, 71, 9, 8, 11, 25, 18, 58, 6, 16, 125, 12...   \n",
       "2  [9, 174, 65, 8, 63, 97, 62, 103, 61, 116, 59, ...   \n",
       "3  [99, 73, 9, 8, 59, 37, 131, 3, 89, 6, 24, 16, ...   \n",
       "4  [9, 8, 17, 54, 3, 25, 22, 6, 21, 7, 14, 5, 817...   \n",
       "\n",
       "                                               games gender  birth_year  \n",
       "0                                        [9151, 208]      M      1366.0  \n",
       "1       [460, 4939, 14, 232, 6387, 1758, 5834, 3, 2]      F      1359.0  \n",
       "2  [448, 723, 267, 9064, 10634, 166, 782, 224, 27...      M      1373.0  \n",
       "3                       [78, 2607, 478, 435, 9, 192]      M         0.0  \n",
       "4                                      [1702, 1, 53]      M      1364.0  "
      ]
     },
     "execution_count": 3,
     "metadata": {},
     "output_type": "execute_result"
    }
   ],
   "source": [
    "df = pd.read_parquet(DATA_DIR, engine=\"pyarrow\")\n",
    "df.head()"
   ]
  },
  {
   "cell_type": "code",
   "execution_count": 4,
   "id": "514c97b9",
   "metadata": {},
   "outputs": [
    {
     "data": {
      "text/html": [
       "<div>\n",
       "<style scoped>\n",
       "    .dataframe tbody tr th:only-of-type {\n",
       "        vertical-align: middle;\n",
       "    }\n",
       "\n",
       "    .dataframe tbody tr th {\n",
       "        vertical-align: top;\n",
       "    }\n",
       "\n",
       "    .dataframe thead th {\n",
       "        text-align: right;\n",
       "    }\n",
       "</style>\n",
       "<table border=\"1\" class=\"dataframe\">\n",
       "  <thead>\n",
       "    <tr style=\"text-align: right;\">\n",
       "      <th></th>\n",
       "      <th>queries</th>\n",
       "      <th>apps</th>\n",
       "      <th>games</th>\n",
       "      <th>gender</th>\n",
       "      <th>birth_year</th>\n",
       "    </tr>\n",
       "  </thead>\n",
       "  <tbody>\n",
       "    <tr>\n",
       "      <th>40266</th>\n",
       "      <td>[13388, 10571, 122, 1961, 42946, 823, 3349, 10...</td>\n",
       "      <td>[9, 8, 17, 3, 25, 22, 6, 24, 12, 7, 14, 5, 4, ...</td>\n",
       "      <td>[3, 55, 1115, 135, 410, 38, 1426, 107, 374]</td>\n",
       "      <td>M</td>\n",
       "      <td>1394.0</td>\n",
       "    </tr>\n",
       "    <tr>\n",
       "      <th>40267</th>\n",
       "      <td>[2655, 11, 1732, 2847, 15222, 884, 39, 1433, 2...</td>\n",
       "      <td>[8, 11, 10, 10, 39, 17, 771, 48, 3, 25, 95, 22...</td>\n",
       "      <td>[717]</td>\n",
       "      <td>M</td>\n",
       "      <td>1354.0</td>\n",
       "    </tr>\n",
       "    <tr>\n",
       "      <th>40268</th>\n",
       "      <td>[9, 33200, 5028, 357, 4, 233, 262, 2180, 376, ...</td>\n",
       "      <td>[54, 9, 8, 10, 10, 39, 17, 48, 3, 25, 6, 21, 1...</td>\n",
       "      <td>[312, 22]</td>\n",
       "      <td>M</td>\n",
       "      <td>1364.0</td>\n",
       "    </tr>\n",
       "    <tr>\n",
       "      <th>40269</th>\n",
       "      <td>[9, 276, 27, 1074]</td>\n",
       "      <td>[9, 8, 17, 48, 54, 3, 25, 22, 6, 21, 7, 45, 14...</td>\n",
       "      <td>[73, 2, 53, 75]</td>\n",
       "      <td>M</td>\n",
       "      <td>1365.0</td>\n",
       "    </tr>\n",
       "    <tr>\n",
       "      <th>40270</th>\n",
       "      <td>[6421, 11377, 6980, 852, 31, 185, 2348, 534, 4...</td>\n",
       "      <td>[43, 8, 10, 10, 39, 17, 48, 54, 3, 25, 22, 6, ...</td>\n",
       "      <td>[355, 278, 185]</td>\n",
       "      <td>M</td>\n",
       "      <td>1390.0</td>\n",
       "    </tr>\n",
       "  </tbody>\n",
       "</table>\n",
       "</div>"
      ],
      "text/plain": [
       "                                                 queries  \\\n",
       "40266  [13388, 10571, 122, 1961, 42946, 823, 3349, 10...   \n",
       "40267  [2655, 11, 1732, 2847, 15222, 884, 39, 1433, 2...   \n",
       "40268  [9, 33200, 5028, 357, 4, 233, 262, 2180, 376, ...   \n",
       "40269                                 [9, 276, 27, 1074]   \n",
       "40270  [6421, 11377, 6980, 852, 31, 185, 2348, 534, 4...   \n",
       "\n",
       "                                                    apps  \\\n",
       "40266  [9, 8, 17, 3, 25, 22, 6, 24, 12, 7, 14, 5, 4, ...   \n",
       "40267  [8, 11, 10, 10, 39, 17, 771, 48, 3, 25, 95, 22...   \n",
       "40268  [54, 9, 8, 10, 10, 39, 17, 48, 3, 25, 6, 21, 1...   \n",
       "40269  [9, 8, 17, 48, 54, 3, 25, 22, 6, 21, 7, 45, 14...   \n",
       "40270  [43, 8, 10, 10, 39, 17, 48, 54, 3, 25, 22, 6, ...   \n",
       "\n",
       "                                             games gender  birth_year  \n",
       "40266  [3, 55, 1115, 135, 410, 38, 1426, 107, 374]      M      1394.0  \n",
       "40267                                        [717]      M      1354.0  \n",
       "40268                                    [312, 22]      M      1364.0  \n",
       "40269                              [73, 2, 53, 75]      M      1365.0  \n",
       "40270                              [355, 278, 185]      M      1390.0  "
      ]
     },
     "execution_count": 4,
     "metadata": {},
     "output_type": "execute_result"
    }
   ],
   "source": [
    "df.tail()"
   ]
  },
  {
   "cell_type": "code",
   "execution_count": 5,
   "id": "0f26f459",
   "metadata": {},
   "outputs": [
    {
     "data": {
      "text/plain": [
       "(40271, 5)"
      ]
     },
     "execution_count": 5,
     "metadata": {},
     "output_type": "execute_result"
    }
   ],
   "source": [
    "df.shape"
   ]
  },
  {
   "cell_type": "code",
   "execution_count": 6,
   "id": "3f06c436",
   "metadata": {},
   "outputs": [
    {
     "name": "stdout",
     "output_type": "stream",
     "text": [
      "<class 'pandas.core.frame.DataFrame'>\n",
      "RangeIndex: 40271 entries, 0 to 40270\n",
      "Data columns (total 5 columns):\n",
      " #   Column      Non-Null Count  Dtype  \n",
      "---  ------      --------------  -----  \n",
      " 0   queries     40271 non-null  object \n",
      " 1   apps        40271 non-null  object \n",
      " 2   games       40271 non-null  object \n",
      " 3   gender      40271 non-null  object \n",
      " 4   birth_year  40271 non-null  float64\n",
      "dtypes: float64(1), object(4)\n",
      "memory usage: 1.5+ MB\n"
     ]
    }
   ],
   "source": [
    "df.info()"
   ]
  },
  {
   "cell_type": "code",
   "execution_count": 7,
   "id": "f96845c5",
   "metadata": {},
   "outputs": [],
   "source": [
    "df[\"birth_year\"] = df[\"birth_year\"].astype(np.uint)"
   ]
  },
  {
   "cell_type": "markdown",
   "id": "e468ebd8",
   "metadata": {},
   "source": [
    "There is no `NaN` value heare as we can see in `birth_year` we have `0` which is not acceptable. So we should replace them with new values.\n",
    "\n",
    "In addition to `birth_year` we should make gender column numeric, although it is our goal column."
   ]
  },
  {
   "cell_type": "code",
   "execution_count": 8,
   "id": "44a2f8a3",
   "metadata": {},
   "outputs": [],
   "source": [
    "valid_birth_year = df[\"birth_year\"][df[\"birth_year\"] != 0]\n",
    "mean_birth_year = round(valid_birth_year.mean())"
   ]
  },
  {
   "cell_type": "code",
   "execution_count": 9,
   "id": "a031a07c",
   "metadata": {},
   "outputs": [
    {
     "data": {
      "text/html": [
       "<div>\n",
       "<style scoped>\n",
       "    .dataframe tbody tr th:only-of-type {\n",
       "        vertical-align: middle;\n",
       "    }\n",
       "\n",
       "    .dataframe tbody tr th {\n",
       "        vertical-align: top;\n",
       "    }\n",
       "\n",
       "    .dataframe thead th {\n",
       "        text-align: right;\n",
       "    }\n",
       "</style>\n",
       "<table border=\"1\" class=\"dataframe\">\n",
       "  <thead>\n",
       "    <tr style=\"text-align: right;\">\n",
       "      <th></th>\n",
       "      <th>queries</th>\n",
       "      <th>apps</th>\n",
       "      <th>games</th>\n",
       "      <th>gender</th>\n",
       "      <th>birth_year</th>\n",
       "    </tr>\n",
       "  </thead>\n",
       "  <tbody>\n",
       "    <tr>\n",
       "      <th>0</th>\n",
       "      <td>[216, 359, 12329, 3, 45, 4002, 2066, 32, 3931,...</td>\n",
       "      <td>[4, 4, 25, 7, 30, 58, 16, 19, 17, 21, 10, 10, ...</td>\n",
       "      <td>[9151, 208]</td>\n",
       "      <td>1</td>\n",
       "      <td>1366</td>\n",
       "    </tr>\n",
       "    <tr>\n",
       "      <th>1</th>\n",
       "      <td>[]</td>\n",
       "      <td>[129, 71, 9, 8, 11, 25, 18, 58, 6, 16, 125, 12...</td>\n",
       "      <td>[460, 4939, 14, 232, 6387, 1758, 5834, 3, 2]</td>\n",
       "      <td>0</td>\n",
       "      <td>1359</td>\n",
       "    </tr>\n",
       "    <tr>\n",
       "      <th>2</th>\n",
       "      <td>[23463, 18831]</td>\n",
       "      <td>[9, 174, 65, 8, 63, 97, 62, 103, 61, 116, 59, ...</td>\n",
       "      <td>[448, 723, 267, 9064, 10634, 166, 782, 224, 27...</td>\n",
       "      <td>1</td>\n",
       "      <td>1373</td>\n",
       "    </tr>\n",
       "    <tr>\n",
       "      <th>3</th>\n",
       "      <td>[1634, 3609, 654]</td>\n",
       "      <td>[99, 73, 9, 8, 59, 37, 131, 3, 89, 6, 24, 16, ...</td>\n",
       "      <td>[78, 2607, 478, 435, 9, 192]</td>\n",
       "      <td>1</td>\n",
       "      <td>1371</td>\n",
       "    </tr>\n",
       "    <tr>\n",
       "      <th>4</th>\n",
       "      <td>[11064, 227, 623, 1301, 43999, 35411, 2492, 11...</td>\n",
       "      <td>[9, 8, 17, 54, 3, 25, 22, 6, 21, 7, 14, 5, 817...</td>\n",
       "      <td>[1702, 1, 53]</td>\n",
       "      <td>1</td>\n",
       "      <td>1364</td>\n",
       "    </tr>\n",
       "  </tbody>\n",
       "</table>\n",
       "</div>"
      ],
      "text/plain": [
       "                                             queries  \\\n",
       "0  [216, 359, 12329, 3, 45, 4002, 2066, 32, 3931,...   \n",
       "1                                                 []   \n",
       "2                                     [23463, 18831]   \n",
       "3                                  [1634, 3609, 654]   \n",
       "4  [11064, 227, 623, 1301, 43999, 35411, 2492, 11...   \n",
       "\n",
       "                                                apps  \\\n",
       "0  [4, 4, 25, 7, 30, 58, 16, 19, 17, 21, 10, 10, ...   \n",
       "1  [129, 71, 9, 8, 11, 25, 18, 58, 6, 16, 125, 12...   \n",
       "2  [9, 174, 65, 8, 63, 97, 62, 103, 61, 116, 59, ...   \n",
       "3  [99, 73, 9, 8, 59, 37, 131, 3, 89, 6, 24, 16, ...   \n",
       "4  [9, 8, 17, 54, 3, 25, 22, 6, 21, 7, 14, 5, 817...   \n",
       "\n",
       "                                               games  gender  birth_year  \n",
       "0                                        [9151, 208]       1        1366  \n",
       "1       [460, 4939, 14, 232, 6387, 1758, 5834, 3, 2]       0        1359  \n",
       "2  [448, 723, 267, 9064, 10634, 166, 782, 224, 27...       1        1373  \n",
       "3                       [78, 2607, 478, 435, 9, 192]       1        1371  \n",
       "4                                      [1702, 1, 53]       1        1364  "
      ]
     },
     "execution_count": 9,
     "metadata": {},
     "output_type": "execute_result"
    }
   ],
   "source": [
    "df[\"birth_year\"] = df[\"birth_year\"].replace(0, mean_birth_year)\n",
    "df[\"gender\"] = df[\"gender\"].replace({'M': 1, 'F': 0})\n",
    "df.head()"
   ]
  },
  {
   "cell_type": "code",
   "execution_count": 10,
   "id": "af9518d6",
   "metadata": {},
   "outputs": [
    {
     "data": {
      "text/html": [
       "<div>\n",
       "<style scoped>\n",
       "    .dataframe tbody tr th:only-of-type {\n",
       "        vertical-align: middle;\n",
       "    }\n",
       "\n",
       "    .dataframe tbody tr th {\n",
       "        vertical-align: top;\n",
       "    }\n",
       "\n",
       "    .dataframe thead th {\n",
       "        text-align: right;\n",
       "    }\n",
       "</style>\n",
       "<table border=\"1\" class=\"dataframe\">\n",
       "  <thead>\n",
       "    <tr style=\"text-align: right;\">\n",
       "      <th></th>\n",
       "      <th>gender</th>\n",
       "      <th>birth_year</th>\n",
       "    </tr>\n",
       "  </thead>\n",
       "  <tbody>\n",
       "    <tr>\n",
       "      <th>count</th>\n",
       "      <td>40271.000000</td>\n",
       "      <td>40271.000000</td>\n",
       "    </tr>\n",
       "    <tr>\n",
       "      <th>mean</th>\n",
       "      <td>0.742991</td>\n",
       "      <td>1370.967495</td>\n",
       "    </tr>\n",
       "    <tr>\n",
       "      <th>std</th>\n",
       "      <td>0.436990</td>\n",
       "      <td>11.706620</td>\n",
       "    </tr>\n",
       "    <tr>\n",
       "      <th>min</th>\n",
       "      <td>0.000000</td>\n",
       "      <td>1300.000000</td>\n",
       "    </tr>\n",
       "    <tr>\n",
       "      <th>25%</th>\n",
       "      <td>0.000000</td>\n",
       "      <td>1364.000000</td>\n",
       "    </tr>\n",
       "    <tr>\n",
       "      <th>50%</th>\n",
       "      <td>1.000000</td>\n",
       "      <td>1371.000000</td>\n",
       "    </tr>\n",
       "    <tr>\n",
       "      <th>75%</th>\n",
       "      <td>1.000000</td>\n",
       "      <td>1380.000000</td>\n",
       "    </tr>\n",
       "    <tr>\n",
       "      <th>max</th>\n",
       "      <td>1.000000</td>\n",
       "      <td>1398.000000</td>\n",
       "    </tr>\n",
       "  </tbody>\n",
       "</table>\n",
       "</div>"
      ],
      "text/plain": [
       "             gender    birth_year\n",
       "count  40271.000000  40271.000000\n",
       "mean       0.742991   1370.967495\n",
       "std        0.436990     11.706620\n",
       "min        0.000000   1300.000000\n",
       "25%        0.000000   1364.000000\n",
       "50%        1.000000   1371.000000\n",
       "75%        1.000000   1380.000000\n",
       "max        1.000000   1398.000000"
      ]
     },
     "execution_count": 10,
     "metadata": {},
     "output_type": "execute_result"
    }
   ],
   "source": [
    "df.describe()"
   ]
  },
  {
   "attachments": {
    "image-2.png": {
     "image/png": "[encoded data removed]"
    },
    "image.png": {
     "image/png": "[encoded data removed]"
    }
   },
   "cell_type": "markdown",
   "id": "0f8f95bc",
   "metadata": {},
   "source": [
    "## Dealing with list values\n",
    "\n",
    "As it's clear hear that three of our main columns which are `queries`, `apps`, and `games` are lists so we should desl with them.\n",
    "\n",
    "Actually, if you look closely, you will find that lists are everywhere! Here are some practical problems, where you will probably encounter list values.\n",
    "\n",
    "* Audio-video tags\n",
    "* Open-ended questions in survey data\n",
    "* List of all authors, artists, producers, etc. invloved in a creative product\n",
    "\n",
    "### What is wrong with list values?\n",
    "List values mess up everything you know about data analysis. The simplest operations can not be performed without endless looping. \n",
    "\n",
    "An example of this is here:\n",
    "\n",
    "![image.png](attachment:image.png)\n",
    "\n",
    "![image-2.png](attachment:image-2.png)\n",
    "\n",
    "The reason this does not work is that Pandas does not have direct access to every individual element of the lists. Thus, Pandas is unable to apply functions like value_counts() properly. "
   ]
  },
  {
   "cell_type": "code",
   "execution_count": 11,
   "id": "5511a30d",
   "metadata": {},
   "outputs": [],
   "source": [
    "def to_1D(series):\n",
    "    return pd.Series([x for _list in series for x in _list])"
   ]
  },
  {
   "cell_type": "code",
   "execution_count": 12,
   "id": "69307769",
   "metadata": {},
   "outputs": [
    {
     "data": {
      "text/plain": [
       "2        8229\n",
       "3        8174\n",
       "4        7870\n",
       "1        7816\n",
       "5        6605\n",
       "         ... \n",
       "43591       1\n",
       "49796       1\n",
       "36214       1\n",
       "37550       1\n",
       "41955       1\n",
       "Length: 47287, dtype: int64"
      ]
     },
     "execution_count": 12,
     "metadata": {},
     "output_type": "execute_result"
    }
   ],
   "source": [
    "to_1D(df['queries']).value_counts()"
   ]
  },
  {
   "cell_type": "code",
   "execution_count": 13,
   "id": "383cb885",
   "metadata": {},
   "outputs": [
    {
     "data": {
      "text/plain": [
       "4        41154\n",
       "1        40271\n",
       "2        40194\n",
       "3        38390\n",
       "10       37980\n",
       "         ...  \n",
       "22089        1\n",
       "19999        1\n",
       "16220        1\n",
       "12370        1\n",
       "30151        1\n",
       "Length: 36598, dtype: int64"
      ]
     },
     "execution_count": 13,
     "metadata": {},
     "output_type": "execute_result"
    }
   ],
   "source": [
    "to_1D(df['apps']).value_counts()"
   ]
  },
  {
   "cell_type": "code",
   "execution_count": 14,
   "id": "9f31ac1e",
   "metadata": {},
   "outputs": [
    {
     "data": {
      "text/plain": [
       "2        5534\n",
       "1        3662\n",
       "9        2324\n",
       "4        2131\n",
       "16       2045\n",
       "         ... \n",
       "3942        1\n",
       "30718       1\n",
       "8524        1\n",
       "8361        1\n",
       "14970       1\n",
       "Length: 15414, dtype: int64"
      ]
     },
     "execution_count": 14,
     "metadata": {},
     "output_type": "execute_result"
    }
   ],
   "source": [
    "to_1D(df['games']).value_counts()"
   ]
  },
  {
   "cell_type": "code",
   "execution_count": 15,
   "id": "2f6edb18",
   "metadata": {},
   "outputs": [
    {
     "data": {
      "text/plain": [
       "Text(0.5, 1.0, 'Query Ids')"
      ]
     },
     "execution_count": 15,
     "metadata": {},
     "output_type": "execute_result"
    },
    {
     "data": {
      "image/png": "[encoded data removed]",
      "text/plain": [
       "<Figure size 1008x288 with 1 Axes>"
      ]
     },
     "metadata": {
      "needs_background": "light"
     },
     "output_type": "display_data"
    }
   ],
   "source": [
    "fig, ax = plt.subplots(figsize = (14,4))\n",
    "ax.bar(to_1D(df[\"queries\"]).value_counts().index,\n",
    "        to_1D(df[\"queries\"]).value_counts().values)\n",
    "ax.set_ylabel(\"Frequency\", size = 12)\n",
    "ax.set_title(\"Query Ids\", size = 14)"
   ]
  },
  {
   "cell_type": "code",
   "execution_count": 16,
   "id": "93f55dd8",
   "metadata": {},
   "outputs": [
    {
     "data": {
      "text/plain": [
       "Text(0.5, 1.0, 'App Ids')"
      ]
     },
     "execution_count": 16,
     "metadata": {},
     "output_type": "execute_result"
    },
    {
     "data": {
      "image/png": "[encoded data removed]",
      "text/plain": [
       "<Figure size 1008x288 with 1 Axes>"
      ]
     },
     "metadata": {
      "needs_background": "light"
     },
     "output_type": "display_data"
    }
   ],
   "source": [
    "fig, ax = plt.subplots(figsize = (14,4))\n",
    "ax.bar(to_1D(df[\"apps\"]).value_counts().index,\n",
    "        to_1D(df[\"apps\"]).value_counts().values)\n",
    "ax.set_ylabel(\"Frequency\", size = 12)\n",
    "ax.set_title(\"App Ids\", size = 14)"
   ]
  },
  {
   "cell_type": "code",
   "execution_count": 17,
   "id": "78178353",
   "metadata": {},
   "outputs": [
    {
     "data": {
      "text/plain": [
       "Text(0.5, 1.0, 'Game Ids')"
      ]
     },
     "execution_count": 17,
     "metadata": {},
     "output_type": "execute_result"
    },
    {
     "data": {
      "image/png": "[encoded data removed]",
      "text/plain": [
       "<Figure size 1008x288 with 1 Axes>"
      ]
     },
     "metadata": {
      "needs_background": "light"
     },
     "output_type": "display_data"
    }
   ],
   "source": [
    "fig, ax = plt.subplots(figsize = (14,4))\n",
    "ax.bar(to_1D(df[\"games\"]).value_counts().index,\n",
    "        to_1D(df[\"games\"]).value_counts().values)\n",
    "ax.set_ylabel(\"Frequency\", size = 12)\n",
    "ax.set_title(\"Game Ids\", size = 14)"
   ]
  },
  {
   "cell_type": "code",
   "execution_count": 18,
   "id": "4cd05a55",
   "metadata": {},
   "outputs": [
    {
     "data": {
      "text/html": [
       "<div>\n",
       "<style scoped>\n",
       "    .dataframe tbody tr th:only-of-type {\n",
       "        vertical-align: middle;\n",
       "    }\n",
       "\n",
       "    .dataframe tbody tr th {\n",
       "        vertical-align: top;\n",
       "    }\n",
       "\n",
       "    .dataframe thead th {\n",
       "        text-align: right;\n",
       "    }\n",
       "</style>\n",
       "<table border=\"1\" class=\"dataframe\">\n",
       "  <thead>\n",
       "    <tr style=\"text-align: right;\">\n",
       "      <th></th>\n",
       "      <th>queries</th>\n",
       "      <th>apps</th>\n",
       "      <th>games</th>\n",
       "      <th>gender</th>\n",
       "      <th>birth_year</th>\n",
       "    </tr>\n",
       "  </thead>\n",
       "  <tbody>\n",
       "    <tr>\n",
       "      <th>0</th>\n",
       "      <td>[216, 359, 12329, 3, 45, 4002, 2066, 32, 3931,...</td>\n",
       "      <td>[4, 4, 25, 7, 30, 58, 16, 19, 17, 21, 10, 10, ...</td>\n",
       "      <td>[9151, 208]</td>\n",
       "      <td>1</td>\n",
       "      <td>1366</td>\n",
       "    </tr>\n",
       "    <tr>\n",
       "      <th>1</th>\n",
       "      <td>[]</td>\n",
       "      <td>[129, 71, 9, 8, 11, 25, 18, 58, 6, 16, 125, 12...</td>\n",
       "      <td>[460, 4939, 14, 232, 6387, 1758, 5834, 3, 2]</td>\n",
       "      <td>0</td>\n",
       "      <td>1359</td>\n",
       "    </tr>\n",
       "    <tr>\n",
       "      <th>2</th>\n",
       "      <td>[23463, 18831]</td>\n",
       "      <td>[9, 174, 65, 8, 63, 97, 62, 103, 61, 116, 59, ...</td>\n",
       "      <td>[448, 723, 267, 9064, 10634, 166, 782, 224, 27...</td>\n",
       "      <td>1</td>\n",
       "      <td>1373</td>\n",
       "    </tr>\n",
       "    <tr>\n",
       "      <th>3</th>\n",
       "      <td>[1634, 3609, 654]</td>\n",
       "      <td>[99, 73, 9, 8, 59, 37, 131, 3, 89, 6, 24, 16, ...</td>\n",
       "      <td>[78, 2607, 478, 435, 9, 192]</td>\n",
       "      <td>1</td>\n",
       "      <td>1371</td>\n",
       "    </tr>\n",
       "    <tr>\n",
       "      <th>4</th>\n",
       "      <td>[11064, 227, 623, 1301, 43999, 35411, 2492, 11...</td>\n",
       "      <td>[9, 8, 17, 54, 3, 25, 22, 6, 21, 7, 14, 5, 817...</td>\n",
       "      <td>[1702, 1, 53]</td>\n",
       "      <td>1</td>\n",
       "      <td>1364</td>\n",
       "    </tr>\n",
       "  </tbody>\n",
       "</table>\n",
       "</div>"
      ],
      "text/plain": [
       "                                             queries  \\\n",
       "0  [216, 359, 12329, 3, 45, 4002, 2066, 32, 3931,...   \n",
       "1                                                 []   \n",
       "2                                     [23463, 18831]   \n",
       "3                                  [1634, 3609, 654]   \n",
       "4  [11064, 227, 623, 1301, 43999, 35411, 2492, 11...   \n",
       "\n",
       "                                                apps  \\\n",
       "0  [4, 4, 25, 7, 30, 58, 16, 19, 17, 21, 10, 10, ...   \n",
       "1  [129, 71, 9, 8, 11, 25, 18, 58, 6, 16, 125, 12...   \n",
       "2  [9, 174, 65, 8, 63, 97, 62, 103, 61, 116, 59, ...   \n",
       "3  [99, 73, 9, 8, 59, 37, 131, 3, 89, 6, 24, 16, ...   \n",
       "4  [9, 8, 17, 54, 3, 25, 22, 6, 21, 7, 14, 5, 817...   \n",
       "\n",
       "                                               games  gender  birth_year  \n",
       "0                                        [9151, 208]       1        1366  \n",
       "1       [460, 4939, 14, 232, 6387, 1758, 5834, 3, 2]       0        1359  \n",
       "2  [448, 723, 267, 9064, 10634, 166, 782, 224, 27...       1        1373  \n",
       "3                       [78, 2607, 478, 435, 9, 192]       1        1371  \n",
       "4                                      [1702, 1, 53]       1        1364  "
      ]
     },
     "execution_count": 18,
     "metadata": {},
     "output_type": "execute_result"
    }
   ],
   "source": [
    "df.head()"
   ]
  },
  {
   "cell_type": "code",
   "execution_count": 19,
   "id": "a65f94be",
   "metadata": {},
   "outputs": [
    {
     "data": {
      "text/html": [
       "<div>\n",
       "<style scoped>\n",
       "    .dataframe tbody tr th:only-of-type {\n",
       "        vertical-align: middle;\n",
       "    }\n",
       "\n",
       "    .dataframe tbody tr th {\n",
       "        vertical-align: top;\n",
       "    }\n",
       "\n",
       "    .dataframe thead th {\n",
       "        text-align: right;\n",
       "    }\n",
       "</style>\n",
       "<table border=\"1\" class=\"dataframe\">\n",
       "  <thead>\n",
       "    <tr style=\"text-align: right;\">\n",
       "      <th></th>\n",
       "      <th>0</th>\n",
       "      <th>1</th>\n",
       "      <th>2</th>\n",
       "      <th>3</th>\n",
       "      <th>4</th>\n",
       "      <th>5</th>\n",
       "      <th>6</th>\n",
       "      <th>7</th>\n",
       "      <th>8</th>\n",
       "      <th>9</th>\n",
       "      <th>...</th>\n",
       "      <th>88</th>\n",
       "      <th>89</th>\n",
       "      <th>90</th>\n",
       "      <th>91</th>\n",
       "      <th>92</th>\n",
       "      <th>93</th>\n",
       "      <th>94</th>\n",
       "      <th>95</th>\n",
       "      <th>gender</th>\n",
       "      <th>birth_year</th>\n",
       "    </tr>\n",
       "  </thead>\n",
       "  <tbody>\n",
       "    <tr>\n",
       "      <th>0</th>\n",
       "      <td>9151.0</td>\n",
       "      <td>208.0</td>\n",
       "      <td>0.0</td>\n",
       "      <td>0.0</td>\n",
       "      <td>0.0</td>\n",
       "      <td>0.0</td>\n",
       "      <td>0.0</td>\n",
       "      <td>0.0</td>\n",
       "      <td>0.0</td>\n",
       "      <td>0.0</td>\n",
       "      <td>...</td>\n",
       "      <td>0.0</td>\n",
       "      <td>0.0</td>\n",
       "      <td>0.0</td>\n",
       "      <td>0.0</td>\n",
       "      <td>0.0</td>\n",
       "      <td>0.0</td>\n",
       "      <td>0.0</td>\n",
       "      <td>0.0</td>\n",
       "      <td>1</td>\n",
       "      <td>1366</td>\n",
       "    </tr>\n",
       "    <tr>\n",
       "      <th>1</th>\n",
       "      <td>460.0</td>\n",
       "      <td>4939.0</td>\n",
       "      <td>14.0</td>\n",
       "      <td>232.0</td>\n",
       "      <td>6387.0</td>\n",
       "      <td>1758.0</td>\n",
       "      <td>5834.0</td>\n",
       "      <td>3.0</td>\n",
       "      <td>2.0</td>\n",
       "      <td>0.0</td>\n",
       "      <td>...</td>\n",
       "      <td>0.0</td>\n",
       "      <td>0.0</td>\n",
       "      <td>0.0</td>\n",
       "      <td>0.0</td>\n",
       "      <td>0.0</td>\n",
       "      <td>0.0</td>\n",
       "      <td>0.0</td>\n",
       "      <td>0.0</td>\n",
       "      <td>0</td>\n",
       "      <td>1359</td>\n",
       "    </tr>\n",
       "    <tr>\n",
       "      <th>2</th>\n",
       "      <td>448.0</td>\n",
       "      <td>723.0</td>\n",
       "      <td>267.0</td>\n",
       "      <td>9064.0</td>\n",
       "      <td>10634.0</td>\n",
       "      <td>166.0</td>\n",
       "      <td>782.0</td>\n",
       "      <td>224.0</td>\n",
       "      <td>273.0</td>\n",
       "      <td>4086.0</td>\n",
       "      <td>...</td>\n",
       "      <td>0.0</td>\n",
       "      <td>0.0</td>\n",
       "      <td>0.0</td>\n",
       "      <td>0.0</td>\n",
       "      <td>0.0</td>\n",
       "      <td>0.0</td>\n",
       "      <td>0.0</td>\n",
       "      <td>0.0</td>\n",
       "      <td>1</td>\n",
       "      <td>1373</td>\n",
       "    </tr>\n",
       "    <tr>\n",
       "      <th>3</th>\n",
       "      <td>78.0</td>\n",
       "      <td>2607.0</td>\n",
       "      <td>478.0</td>\n",
       "      <td>435.0</td>\n",
       "      <td>9.0</td>\n",
       "      <td>192.0</td>\n",
       "      <td>0.0</td>\n",
       "      <td>0.0</td>\n",
       "      <td>0.0</td>\n",
       "      <td>0.0</td>\n",
       "      <td>...</td>\n",
       "      <td>0.0</td>\n",
       "      <td>0.0</td>\n",
       "      <td>0.0</td>\n",
       "      <td>0.0</td>\n",
       "      <td>0.0</td>\n",
       "      <td>0.0</td>\n",
       "      <td>0.0</td>\n",
       "      <td>0.0</td>\n",
       "      <td>1</td>\n",
       "      <td>1371</td>\n",
       "    </tr>\n",
       "    <tr>\n",
       "      <th>4</th>\n",
       "      <td>1702.0</td>\n",
       "      <td>1.0</td>\n",
       "      <td>53.0</td>\n",
       "      <td>0.0</td>\n",
       "      <td>0.0</td>\n",
       "      <td>0.0</td>\n",
       "      <td>0.0</td>\n",
       "      <td>0.0</td>\n",
       "      <td>0.0</td>\n",
       "      <td>0.0</td>\n",
       "      <td>...</td>\n",
       "      <td>0.0</td>\n",
       "      <td>0.0</td>\n",
       "      <td>0.0</td>\n",
       "      <td>0.0</td>\n",
       "      <td>0.0</td>\n",
       "      <td>0.0</td>\n",
       "      <td>0.0</td>\n",
       "      <td>0.0</td>\n",
       "      <td>1</td>\n",
       "      <td>1364</td>\n",
       "    </tr>\n",
       "  </tbody>\n",
       "</table>\n",
       "<p>5 rows × 932 columns</p>\n",
       "</div>"
      ],
      "text/plain": [
       "        0       1      2       3        4       5       6      7      8  \\\n",
       "0  9151.0   208.0    0.0     0.0      0.0     0.0     0.0    0.0    0.0   \n",
       "1   460.0  4939.0   14.0   232.0   6387.0  1758.0  5834.0    3.0    2.0   \n",
       "2   448.0   723.0  267.0  9064.0  10634.0   166.0   782.0  224.0  273.0   \n",
       "3    78.0  2607.0  478.0   435.0      9.0   192.0     0.0    0.0    0.0   \n",
       "4  1702.0     1.0   53.0     0.0      0.0     0.0     0.0    0.0    0.0   \n",
       "\n",
       "        9  ...   88   89   90   91   92   93   94   95  gender  birth_year  \n",
       "0     0.0  ...  0.0  0.0  0.0  0.0  0.0  0.0  0.0  0.0       1        1366  \n",
       "1     0.0  ...  0.0  0.0  0.0  0.0  0.0  0.0  0.0  0.0       0        1359  \n",
       "2  4086.0  ...  0.0  0.0  0.0  0.0  0.0  0.0  0.0  0.0       1        1373  \n",
       "3     0.0  ...  0.0  0.0  0.0  0.0  0.0  0.0  0.0  0.0       1        1371  \n",
       "4     0.0  ...  0.0  0.0  0.0  0.0  0.0  0.0  0.0  0.0       1        1364  \n",
       "\n",
       "[5 rows x 932 columns]"
      ]
     },
     "execution_count": 19,
     "metadata": {},
     "output_type": "execute_result"
    }
   ],
   "source": [
    "df = pd.concat([df.pop('queries').apply(pd.Series), df], axis=1)\n",
    "df = pd.concat([df.pop('apps').apply(pd.Series), df], axis=1)\n",
    "df = pd.concat([df.pop('games').apply(pd.Series), df], axis=1)\n",
    "df.fillna(0, inplace=True)\n",
    "df.head()"
   ]
  },
  {
   "cell_type": "code",
   "execution_count": 20,
   "id": "aa2dc977",
   "metadata": {},
   "outputs": [],
   "source": [
    "from sklearn.model_selection import train_test_split\n",
    "\n",
    "X, y =  df.drop(columns=[\"gender\"]), df[\"gender\"]"
   ]
  },
  {
   "cell_type": "code",
   "execution_count": 21,
   "id": "ad4f8ff6",
   "metadata": {},
   "outputs": [],
   "source": [
    "X_train, X_test, y_train, y_test = train_test_split(X, y, test_size=0.2, random_state=42)"
   ]
  },
  {
   "cell_type": "code",
   "execution_count": 22,
   "id": "e2d62d13",
   "metadata": {},
   "outputs": [
    {
     "data": {
      "text/plain": [
       "array([0.63935444, 0.64276847, 0.63687151, 0.63842334, 0.62259466,\n",
       "       0.63749224, 0.63458553, 0.64141571, 0.63023906, 0.64452034])"
      ]
     },
     "execution_count": 22,
     "metadata": {},
     "output_type": "execute_result"
    }
   ],
   "source": [
    "from sklearn.model_selection import cross_val_score\n",
    "from sklearn.tree import DecisionTreeClassifier\n",
    "\n",
    "model = DecisionTreeClassifier(random_state=0)\n",
    "cross_val_score(model, X_train, y_train, cv=10)"
   ]
  },
  {
   "cell_type": "code",
   "execution_count": 23,
   "id": "367441f0",
   "metadata": {},
   "outputs": [],
   "source": [
    "model.fit(X_train, y_train)\n",
    "predicted = model.predict(X_test)"
   ]
  },
  {
   "cell_type": "code",
   "execution_count": 24,
   "id": "83c118d9",
   "metadata": {},
   "outputs": [],
   "source": [
    "from sklearn import metrics\n",
    "\n",
    "def evaluate(predicted, actual):\n",
    "    print(\"Accuracy: \", metrics.accuracy_score(actual, predicted))\n",
    "    print(\"Balanced Accuracy: \", metrics.balanced_accuracy_score(actual, predicted))\n",
    "    print(\"Precision: \", metrics.precision_score(actual, predicted))\n",
    "    print(\"Recall: \", metrics.recall_score(actual, predicted))\n",
    "    print(\"F1: \", metrics.f1_score(actual, predicted))"
   ]
  },
  {
   "cell_type": "code",
   "execution_count": 25,
   "id": "8d5143b1",
   "metadata": {},
   "outputs": [
    {
     "name": "stdout",
     "output_type": "stream",
     "text": [
      "Accuracy:  0.6441961514587213\n",
      "Balanced Accuracy:  0.5421774831735213\n",
      "Precision:  0.7637474541751528\n",
      "Recall:  0.7532641446267158\n",
      "F1:  0.7584695769425248\n"
     ]
    }
   ],
   "source": [
    "evaluate(predicted, y_test)"
   ]
  },
  {
   "cell_type": "code",
   "execution_count": 26,
   "id": "2886a0b0",
   "metadata": {},
   "outputs": [
    {
     "data": {
      "text/plain": [
       "array([0.74332713, 0.74332713, 0.74332713, 0.74332713, 0.74332713,\n",
       "       0.74332713, 0.7435579 , 0.74324744, 0.74324744, 0.74324744])"
      ]
     },
     "execution_count": 26,
     "metadata": {},
     "output_type": "execute_result"
    }
   ],
   "source": [
    "from sklearn.ensemble import RandomForestClassifier\n",
    "\n",
    "model = RandomForestClassifier(random_state=0, max_depth=10)\n",
    "cross_val_score(model, X_train, y_train, cv=10)"
   ]
  },
  {
   "cell_type": "code",
   "execution_count": 27,
   "id": "0e589fc5",
   "metadata": {},
   "outputs": [],
   "source": [
    "model.fit(X_train, y_train)\n",
    "predicted = model.predict(X_test)"
   ]
  },
  {
   "cell_type": "code",
   "execution_count": 28,
   "id": "c263becc",
   "metadata": {},
   "outputs": [
    {
     "name": "stdout",
     "output_type": "stream",
     "text": [
      "Accuracy:  0.741651148355059\n",
      "Balanced Accuracy:  0.5\n",
      "Precision:  0.741651148355059\n",
      "Recall:  1.0\n",
      "F1:  0.8516644094375936\n"
     ]
    }
   ],
   "source": [
    "evaluate(predicted, y_test)"
   ]
  },
  {
   "cell_type": "code",
   "execution_count": 39,
   "id": "37f1b324",
   "metadata": {},
   "outputs": [
    {
     "data": {
      "text/plain": [
       "GridSearchCV(estimator=RandomForestClassifier(max_depth=10, random_state=0),\n",
       "             param_grid={'max_depth': [2, 5, 10, 20, 50, 100],\n",
       "                         'min_samples_leaf': [1, 2, 3],\n",
       "                         'min_samples_split': [2, 3],\n",
       "                         'n_estimators': [2, 5, 10, 20, 30, 50, 100, 200]})"
      ]
     },
     "execution_count": 39,
     "metadata": {},
     "output_type": "execute_result"
    }
   ],
   "source": [
    "from sklearn.model_selection import GridSearchCV\n",
    "\n",
    "parameters = { 'n_estimators': [2, 5, 10, 20, 30, 50, 100, 200],\n",
    "                   'min_samples_split': [2, 3],\n",
    "                   'min_samples_leaf': [1, 2, 3],\n",
    "                   'max_depth': [2, 5, 10, 20, 50 ,100]\n",
    "                 }\n",
    "\n",
    "grid_search = GridSearchCV(estimator=model, param_grid=parameters)\n",
    "grid_search.fit(X_train, y_train)"
   ]
  },
  {
   "cell_type": "code",
   "execution_count": 40,
   "id": "f94c22d8",
   "metadata": {},
   "outputs": [
    {
     "data": {
      "text/plain": [
       "{'max_depth': 20,\n",
       " 'min_samples_leaf': 1,\n",
       " 'min_samples_split': 2,\n",
       " 'n_estimators': 100}"
      ]
     },
     "execution_count": 40,
     "metadata": {},
     "output_type": "execute_result"
    }
   ],
   "source": [
    "grid_search.best_params_"
   ]
  },
  {
   "cell_type": "code",
   "execution_count": 42,
   "id": "ae4e01a4",
   "metadata": {},
   "outputs": [
    {
     "data": {
      "text/plain": [
       "array([0.74270639, 0.74301676, 0.74394786, 0.74332713, 0.74363749,\n",
       "       0.74301676, 0.74262651, 0.74324744, 0.74293698, 0.74231605])"
      ]
     },
     "execution_count": 42,
     "metadata": {},
     "output_type": "execute_result"
    }
   ],
   "source": [
    "model = RandomForestClassifier(random_state=0, max_depth=20, min_samples_leaf=1, min_samples_split=2, n_estimators=100)\n",
    "cross_val_score(model, X_train, y_train, cv=10)"
   ]
  },
  {
   "cell_type": "code",
   "execution_count": 43,
   "id": "54eee9cd",
   "metadata": {},
   "outputs": [],
   "source": [
    "model.fit(X_train, y_train)\n",
    "predicted = model.predict(X_test)"
   ]
  },
  {
   "cell_type": "code",
   "execution_count": 44,
   "id": "a7ef692f",
   "metadata": {},
   "outputs": [
    {
     "name": "stdout",
     "output_type": "stream",
     "text": [
      "Accuracy:  0.7417752948479206\n",
      "Balanced Accuracy:  0.5007099883573654\n",
      "Precision:  0.7419234592445328\n",
      "Recall:  0.9994978239035822\n",
      "F1:  0.8516616745114819\n"
     ]
    }
   ],
   "source": [
    "evaluate(predicted, y_test)"
   ]
  },
  {
   "cell_type": "markdown",
   "id": "65dc0d0e",
   "metadata": {},
   "source": [
    "As we can see although we have not-bad accuracy but balanced accuracy which is wanted for this task is not good so we should look for better moodels.\n",
    "\n",
    "By remember that with these parameters:\n",
    "```\n",
    "{'max_depth': 20,\n",
    " 'min_samples_leaf': 1,\n",
    " 'min_samples_split': 2,\n",
    " 'n_estimators': 100\n",
    "}\n",
    "```\n",
    " \n",
    "We got these results:\n",
    "```\n",
    "Accuracy:  0.7417752948479206\n",
    "Balanced Accuracy:  0.5007099883573654\n",
    "Precision:  0.7419234592445328\n",
    "Recall:  0.9994978239035822\n",
    "F1:  0.8516616745114819\n",
    "```"
   ]
  },
  {
   "cell_type": "code",
   "execution_count": null,
   "id": "fc07d664",
   "metadata": {},
   "outputs": [],
   "source": []
  }
 ],
 "metadata": {
  "kernelspec": {
   "display_name": "Python 3",
   "language": "python",
   "name": "python3"
  },
  "language_info": {
   "codemirror_mode": {
    "name": "ipython",
    "version": 3
   },
   "file_extension": ".py",
   "mimetype": "text/x-python",
   "name": "python",
   "nbconvert_exporter": "python",
   "pygments_lexer": "ipython3",
   "version": "3.8.10"
  }
 },
 "nbformat": 4,
 "nbformat_minor": 5
}
